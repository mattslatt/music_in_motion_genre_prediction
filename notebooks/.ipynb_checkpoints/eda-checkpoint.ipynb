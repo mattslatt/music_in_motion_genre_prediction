{
 "cells": [
  {
   "cell_type": "code",
   "execution_count": 1,
   "metadata": {},
   "outputs": [],
   "source": [
    "import pandas as pd \n",
    "import numpy as np \n",
    "import matplotlib.pyplot as plt\n",
    "plt.style.use('ggplot')\n",
    "import seaborn as sns\n",
    "\n",
    "import sys\n",
    "sys.path.append('../')\n",
    "\n",
    "from src.processing import *\n",
    "from src.visualization import *\n",
    "\n",
    "from sklearn.cluster import AgglomerativeClustering\n",
    "from sklearn.ensemble import RandomForestClassifier\n",
    "from sklearn.linear_model import LogisticRegression, SGDClassifier\n",
    "from sklearn.decomposition import PCA\n",
    "from sklearn.model_selection import train_test_split\n",
    "from sklearn.metrics import classification_report\n",
    "\n",
    "import pickle"
   ]
  },
  {
   "cell_type": "code",
   "execution_count": 2,
   "metadata": {},
   "outputs": [],
   "source": [
    "# Import artist and track data\n",
    "\n",
    "tracks_raw = pd.read_csv('../../capstone1/spotify_data/tracks.csv')\n",
    "artists_raw = pd.read_csv('../../capstone1/spotify_data/artists.csv')"
   ]
  },
  {
   "cell_type": "code",
   "execution_count": 3,
   "metadata": {},
   "outputs": [
    {
     "name": "stdout",
     "output_type": "stream",
     "text": [
      "artists shape: (1104349, 5)\n",
      "columns: Index(['id', 'followers', 'genres', 'name', 'popularity'], dtype='object')\n"
     ]
    }
   ],
   "source": [
    "### Explore artists\n",
    "\n",
    "print('artists shape: {}'.format(artists_raw.shape))\n",
    "print('columns: {}'.format(artists_raw.columns))"
   ]
  },
  {
   "cell_type": "code",
   "execution_count": 4,
   "metadata": {},
   "outputs": [
    {
     "name": "stdout",
     "output_type": "stream",
     "text": [
      "1104349 artists total\n",
      "298616 artists with labeled genres\n",
      "460843 genre-artist pairs after processing\n",
      "586672 tracks total\n",
      "574073 tracks with 3 or fewer artists\n",
      "689217 track-artist pairs after processing\n"
     ]
    }
   ],
   "source": [
    "# Copy and process raw artist and track data\n",
    "artist_split = clean_artists(artists_raw)\n",
    "tracks_split = clean_tracks(tracks_raw)"
   ]
  },
  {
   "cell_type": "code",
   "execution_count": 5,
   "metadata": {},
   "outputs": [],
   "source": [
    "# Genre visualization\n",
    "\n",
    "# masked_wordcloud(artist_split, mask = 'roam_4', min_font = 0.1, colormap_choice='Pastel2')\n",
    "# masked_wordcloud(artist_split, mask = 'note', min_font = 8, colormap_choice='Pastel2')\n",
    "\n",
    "# fig, ax = plt.subplots(figsize=(6,3))\n",
    "# ax.hist(artist_split.genres.value_counts().values, color = 'seagreen', bins=80, alpha = 0.8, histtype='bar', ec='black')\n",
    "# ax.set_xlabel('Genres')\n",
    "# ax.set_ylabel('Artist associations per genre')\n",
    "# plt.title('Genre Association')\n",
    "# plt.tight_layout()\n",
    "# plt.savefig('../img/genre_count_hist.png', dpi=300)"
   ]
  },
  {
   "cell_type": "code",
   "execution_count": 6,
   "metadata": {},
   "outputs": [
    {
     "name": "stdout",
     "output_type": "stream",
     "text": [
      "median number of arists per genre: 61.0\n"
     ]
    }
   ],
   "source": [
    "# Remove uncommon genres\n",
    "\n",
    "print('median number of arists per genre: {}'.format(artist_split['genres'].value_counts().quantile(0.5)))\n",
    "top_50_genres, artist_50_genres = top_x_genres(artist_split, num_genres=50)\n",
    "top_100_genres, artist_100_genres = top_x_genres(artist_split, num_genres=100)\n",
    "top_200_genres, artist_200_genres = top_x_genres(artist_split, num_genres=200)"
   ]
  },
  {
   "cell_type": "code",
   "execution_count": 7,
   "metadata": {},
   "outputs": [
    {
     "name": "stdout",
     "output_type": "stream",
     "text": [
      "2077522 track-artist-genre combinations with all genres\n",
      "317522 track-artist-genre combinations with 50 genres\n",
      "554759 track-artist-genre combinations with 100 genres\n",
      "779756 track-artist-genre combinations with 200 genres\n"
     ]
    }
   ],
   "source": [
    "tracks_artists = artist_split.merge(tracks_split, on='id_artists')\n",
    "tracks_artists_50 = artist_50_genres.merge(tracks_split, on='id_artists')\n",
    "tracks_artists_100 = artist_100_genres.merge(tracks_split, on='id_artists')\n",
    "tracks_artists_200 = artist_200_genres.merge(tracks_split, on='id_artists')\n",
    "\n",
    "print('{} track-artist-genre combinations with all genres'.format(tracks_artists.shape[0]))\n",
    "print('{} track-artist-genre combinations with 50 genres'.format(tracks_artists_50.shape[0]))\n",
    "print('{} track-artist-genre combinations with 100 genres'.format(tracks_artists_100.shape[0]))\n",
    "print('{} track-artist-genre combinations with 200 genres'.format(tracks_artists_200.shape[0]))"
   ]
  },
  {
   "cell_type": "code",
   "execution_count": 8,
   "metadata": {},
   "outputs": [],
   "source": [
    "# trim dataframes and split\n",
    "\n",
    "X_train_50, X_test_50, y_train_50, y_test_50 = track_features_and_labels(tracks_artists_50)\n",
    "X_train_200, X_test_200, y_train_200, y_test_200 = track_features_and_labels(tracks_artists_200)\n"
   ]
  },
  {
   "cell_type": "code",
   "execution_count": 15,
   "metadata": {},
   "outputs": [
    {
     "data": {
      "image/png": "[encoded data removed]",
      "text/plain": [
       "<Figure size 432x288 with 1 Axes>"
      ]
     },
     "metadata": {},
     "output_type": "display_data"
    },
    {
     "data": {
      "text/plain": [
       "None"
      ]
     },
     "metadata": {},
     "output_type": "display_data"
    },
    {
     "data": {
      "text/html": [
       "<div>\n",
       "<style scoped>\n",
       "    .dataframe tbody tr th:only-of-type {\n",
       "        vertical-align: middle;\n",
       "    }\n",
       "\n",
       "    .dataframe tbody tr th {\n",
       "        vertical-align: top;\n",
       "    }\n",
       "\n",
       "    .dataframe thead th {\n",
       "        text-align: right;\n",
       "    }\n",
       "</style>\n",
       "<table border=\"1\" class=\"dataframe\">\n",
       "  <thead>\n",
       "    <tr style=\"text-align: right;\">\n",
       "      <th></th>\n",
       "      <th>Cumulative Variance Ratio</th>\n",
       "      <th>Explained Variance Ratio</th>\n",
       "    </tr>\n",
       "  </thead>\n",
       "  <tbody>\n",
       "    <tr>\n",
       "      <th>0</th>\n",
       "      <td>0.958370</td>\n",
       "      <td>0.958370</td>\n",
       "    </tr>\n",
       "    <tr>\n",
       "      <th>1</th>\n",
       "      <td>0.984326</td>\n",
       "      <td>0.025956</td>\n",
       "    </tr>\n",
       "    <tr>\n",
       "      <th>2</th>\n",
       "      <td>0.999244</td>\n",
       "      <td>0.014918</td>\n",
       "    </tr>\n",
       "    <tr>\n",
       "      <th>3</th>\n",
       "      <td>0.999506</td>\n",
       "      <td>0.000262</td>\n",
       "    </tr>\n",
       "    <tr>\n",
       "      <th>4</th>\n",
       "      <td>0.999676</td>\n",
       "      <td>0.000170</td>\n",
       "    </tr>\n",
       "    <tr>\n",
       "      <th>5</th>\n",
       "      <td>0.999772</td>\n",
       "      <td>0.000096</td>\n",
       "    </tr>\n",
       "    <tr>\n",
       "      <th>6</th>\n",
       "      <td>0.999855</td>\n",
       "      <td>0.000084</td>\n",
       "    </tr>\n",
       "    <tr>\n",
       "      <th>7</th>\n",
       "      <td>0.999917</td>\n",
       "      <td>0.000062</td>\n",
       "    </tr>\n",
       "    <tr>\n",
       "      <th>8</th>\n",
       "      <td>0.999959</td>\n",
       "      <td>0.000042</td>\n",
       "    </tr>\n",
       "    <tr>\n",
       "      <th>9</th>\n",
       "      <td>0.999980</td>\n",
       "      <td>0.000021</td>\n",
       "    </tr>\n",
       "  </tbody>\n",
       "</table>\n",
       "</div>"
      ],
      "text/plain": [
       "   Cumulative Variance Ratio  Explained Variance Ratio\n",
       "0                   0.958370                  0.958370\n",
       "1                   0.984326                  0.025956\n",
       "2                   0.999244                  0.014918\n",
       "3                   0.999506                  0.000262\n",
       "4                   0.999676                  0.000170\n",
       "5                   0.999772                  0.000096\n",
       "6                   0.999855                  0.000084\n",
       "7                   0.999917                  0.000062\n",
       "8                   0.999959                  0.000042\n",
       "9                   0.999980                  0.000021"
      ]
     },
     "metadata": {},
     "output_type": "display_data"
    }
   ],
   "source": [
    "pca_test = PCA(n_components=12)\n",
    "pca_test.fit(X_train_50)\n",
    "\n",
    "sns.set(style='whitegrid')\n",
    "plt.plot(np.cumsum(pca_test.explained_variance_ratio_))\n",
    "plt.xlabel('number of components')\n",
    "plt.ylabel('cumulative explained variance')\n",
    "plt.axvline(linewidth=4, color='r', linestyle = '--', x=3, ymin=0, ymax=1)\n",
    "display(plt.show())\n",
    "\n",
    "evr = pca_test.explained_variance_ratio_\n",
    "cvr = np.cumsum(pca_test.explained_variance_ratio_)\n",
    "pca_df = pd.DataFrame()\n",
    "pca_df['Cumulative Variance Ratio'] = cvr\n",
    "pca_df['Explained Variance Ratio'] = evr\n",
    "display(pca_df.head(10))"
   ]
  },
  {
   "cell_type": "code",
   "execution_count": 14,
   "metadata": {},
   "outputs": [
    {
     "data": {
      "text/plain": [
       "SGDClassifier()"
      ]
     },
     "execution_count": 14,
     "metadata": {},
     "output_type": "execute_result"
    }
   ],
   "source": [
    "log = SGDClassifier()\n",
    "log.fit(X_train_50, y_train_50.values.ravel())"
   ]
  },
  {
   "cell_type": "code",
   "execution_count": 16,
   "metadata": {},
   "outputs": [
    {
     "name": "stderr",
     "output_type": "stream",
     "text": [
      "/home/matt/anaconda3/lib/python3.8/site-packages/sklearn/metrics/_classification.py:1248: UndefinedMetricWarning: Precision and F-score are ill-defined and being set to 0.0 in labels with no predicted samples. Use `zero_division` parameter to control this behavior.\n",
      "  _warn_prf(average, modifier, msg_start, len(result))\n",
      "/home/matt/anaconda3/lib/python3.8/site-packages/sklearn/metrics/_classification.py:1248: UndefinedMetricWarning: Precision and F-score are ill-defined and being set to 0.0 in labels with no predicted samples. Use `zero_division` parameter to control this behavior.\n",
      "  _warn_prf(average, modifier, msg_start, len(result))\n"
     ]
    },
    {
     "name": "stdout",
     "output_type": "stream",
     "text": [
      "                         precision    recall  f1-score   support\n",
      "\n",
      "        adult standards       0.16      0.91      0.27      6791\n",
      "        alternative r&b       0.00      0.00      0.00       126\n",
      "       background music       0.33      0.25      0.29        12\n",
      "   calming instrumental       0.00      0.00      0.00        23\n",
      "  classical performance       0.80      0.42      0.55      3063\n",
      "                corrido       0.19      0.39      0.26       942\n",
      "           country rock       0.00      0.00      0.00      2875\n",
      "              dance pop       0.00      0.00      0.00      3255\n",
      "                    edm       0.00      0.00      0.00      1450\n",
      "          electro house       0.16      0.01      0.02       533\n",
      "             electropop       0.04      0.02      0.02       589\n",
      "            escape room       0.00      0.00      0.00        83\n",
      "                europop       0.05      0.19      0.08      1632\n",
      "                  filmi       0.53      0.03      0.06      6559\n",
      "         french hip hop       0.00      0.00      0.00       624\n",
      "                   funk       0.24      0.02      0.03      1915\n",
      "         german hip hop       0.00      0.00      0.00       414\n",
      "             german pop       0.01      0.04      0.01       631\n",
      "                hip hop       0.14      0.00      0.00      1721\n",
      "       indian classical       0.05      0.03      0.04       184\n",
      "             indie folk       0.00      0.00      0.00       226\n",
      "              indie pop       0.00      0.00      0.00       300\n",
      "        indie poptimism       0.00      0.00      0.00       146\n",
      "             indie rock       0.00      0.00      0.00       510\n",
      "                  k-pop       0.00      0.00      0.00       392\n",
      "                  latin       0.09      0.00      0.00      4116\n",
      "             latin rock       0.00      0.00      0.00      1912\n",
      "            lo-fi beats       0.00      0.00      0.00        29\n",
      "modern alternative rock       0.00      0.00      0.00       224\n",
      "            modern rock       0.07      0.32      0.11       971\n",
      "           new wave pop       0.04      0.00      0.00      2019\n",
      "                otacore       0.00      0.00      0.00       106\n",
      "                    pop       0.12      0.13      0.12      3225\n",
      "              pop dance       0.00      0.00      0.00      1522\n",
      "                pop edm       0.00      0.00      0.00       180\n",
      "                pop rap       0.00      0.00      0.00      1626\n",
      "               pop rock       0.00      0.00      0.00      1767\n",
      "          post-teen pop       0.00      0.00      0.00      1591\n",
      "      progressive house       0.26      0.52      0.35      1430\n",
      "                    r&b       0.04      0.22      0.07      1192\n",
      "                    rap       0.21      0.25      0.23      1760\n",
      "                   rock       0.50      0.01      0.02      7981\n",
      "        rock en espanol       0.07      0.20      0.10      2603\n",
      "              soft rock       0.17      0.02      0.03      4443\n",
      "       stomp and holler       0.00      0.00      0.00       221\n",
      "                   trap       0.00      0.00      0.00       598\n",
      "               tropical       0.00      0.00      0.00      2685\n",
      "         tropical house       0.00      0.00      0.00       692\n",
      "    underground hip hop       0.00      0.00      0.00       110\n",
      "     urban contemporary       0.00      0.00      0.00      1382\n",
      "\n",
      "               accuracy                           0.14     79381\n",
      "              macro avg       0.09      0.08      0.05     79381\n",
      "           weighted avg       0.19      0.14      0.08     79381\n",
      "\n"
     ]
    },
    {
     "name": "stderr",
     "output_type": "stream",
     "text": [
      "/home/matt/anaconda3/lib/python3.8/site-packages/sklearn/metrics/_classification.py:1248: UndefinedMetricWarning: Precision and F-score are ill-defined and being set to 0.0 in labels with no predicted samples. Use `zero_division` parameter to control this behavior.\n",
      "  _warn_prf(average, modifier, msg_start, len(result))\n"
     ]
    }
   ],
   "source": [
    "rf_pred_50 = log.predict(X_test_50)\n",
    "print(classification_report(y_test_50, rf_pred_50))"
   ]
  },
  {
   "cell_type": "code",
   "execution_count": 22,
   "metadata": {},
   "outputs": [],
   "source": [
    "pca = PCA(n_components=6)\n",
    "pca.fit(X_train_50)\n",
    "\n",
    "X_train_50_pca = pca.transform(X_train_50)\n",
    "X_test_50_pca = pca.transform(X_test_50)"
   ]
  },
  {
   "cell_type": "code",
   "execution_count": null,
   "metadata": {},
   "outputs": [],
   "source": [
    "rf_clf_50 = RandomForestClassifier()\n",
    "rf_clf_50.fit(X_train_50_pca, y_train_50.values.ravel())\n",
    "\n",
    "# pickle.dump(rf_clf, open('../models/rf_clf.plk', 'wb'))"
   ]
  },
  {
   "cell_type": "code",
   "execution_count": null,
   "metadata": {},
   "outputs": [],
   "source": [
    "rf_clf_200 = RandomForestClassifier()\n",
    "rf_clf_200.fit(X_train_200, y_train_200.values.ravel())"
   ]
  },
  {
   "cell_type": "code",
   "execution_count": 21,
   "metadata": {},
   "outputs": [
    {
     "name": "stdout",
     "output_type": "stream",
     "text": [
      "                         precision    recall  f1-score   support\n",
      "\n",
      "        adult standards       0.30      0.31      0.31      6855\n",
      "        alternative r&b       0.03      0.03      0.03       116\n",
      "       background music       0.67      0.14      0.24        14\n",
      "   calming instrumental       0.00      0.00      0.00        21\n",
      "  classical performance       0.66      0.75      0.70      3163\n",
      "                corrido       0.22      0.13      0.17       919\n",
      "           country rock       0.07      0.06      0.07      2997\n",
      "              dance pop       0.04      0.05      0.05      3244\n",
      "                    edm       0.04      0.05      0.04      1457\n",
      "          electro house       0.04      0.04      0.04       544\n",
      "             electropop       0.04      0.04      0.04       593\n",
      "            escape room       0.07      0.06      0.07        81\n",
      "                europop       0.13      0.10      0.11      1638\n",
      "                  filmi       0.54      0.60      0.57      6499\n",
      "         french hip hop       0.39      0.27      0.32       620\n",
      "                   funk       0.09      0.07      0.08      1858\n",
      "         german hip hop       0.31      0.29      0.30       411\n",
      "             german pop       0.15      0.09      0.11       663\n",
      "                hip hop       0.06      0.06      0.06      1765\n",
      "       indian classical       0.29      0.18      0.22       217\n",
      "             indie folk       0.04      0.03      0.04       253\n",
      "              indie pop       0.01      0.01      0.01       269\n",
      "        indie poptimism       0.01      0.01      0.01       149\n",
      "             indie rock       0.03      0.03      0.03       509\n",
      "                  k-pop       0.32      0.25      0.28       378\n",
      "                  latin       0.19      0.19      0.19      4118\n",
      "             latin rock       0.03      0.03      0.03      1883\n",
      "            lo-fi beats       0.33      0.24      0.28        21\n",
      "modern alternative rock       0.02      0.02      0.02       180\n",
      "            modern rock       0.04      0.04      0.04       964\n",
      "           new wave pop       0.06      0.06      0.06      1966\n",
      "                otacore       0.29      0.16      0.20       113\n",
      "                    pop       0.07      0.08      0.07      3169\n",
      "              pop dance       0.03      0.03      0.03      1461\n",
      "                pop edm       0.01      0.01      0.01       180\n",
      "                pop rap       0.03      0.03      0.03      1618\n",
      "               pop rock       0.05      0.05      0.05      1741\n",
      "          post-teen pop       0.06      0.06      0.06      1614\n",
      "      progressive house       0.26      0.30      0.28      1420\n",
      "                    r&b       0.01      0.01      0.01      1152\n",
      "                    rap       0.05      0.06      0.05      1734\n",
      "                   rock       0.19      0.20      0.20      8103\n",
      "        rock en espanol       0.03      0.03      0.03      2493\n",
      "              soft rock       0.04      0.04      0.04      4352\n",
      "       stomp and holler       0.03      0.03      0.03       206\n",
      "                   trap       0.05      0.04      0.05       631\n",
      "               tropical       0.10      0.10      0.10      2677\n",
      "         tropical house       0.04      0.04      0.04       776\n",
      "    underground hip hop       0.09      0.05      0.07       119\n",
      "     urban contemporary       0.02      0.02      0.02      1457\n",
      "\n",
      "               accuracy                           0.18     79381\n",
      "              macro avg       0.13      0.11      0.12     79381\n",
      "           weighted avg       0.17      0.18      0.18     79381\n",
      "\n"
     ]
    }
   ],
   "source": [
    "# rf_pred_50 = rf_clf_50.predict(X_test_50_pca)\n",
    "# print(classification_report(y_test_50, rf_pred_50))\n",
    "\n",
    "rf_pred_200 = rf_clf_200.predict(X_test_200)\n",
    "print(classification_report(y_test_200, rf_pred_200))"
   ]
  },
  {
   "cell_type": "code",
   "execution_count": null,
   "metadata": {},
   "outputs": [
    {
     "ename": "Error",
     "evalue": "Kernel is dead",
     "output_type": "error",
     "traceback": [
      "Error: Kernel is dead",
      "at g._sendKernelShellControl (/home/matt/.vscode/extensions/ms-toolsai.jupyter-2021.8.1054968649/out/client/extension.js:52:852938)",
      "at g.sendShellMessage (/home/matt/.vscode/extensions/ms-toolsai.jupyter-2021.8.1054968649/out/client/extension.js:52:852707)",
      "at g.requestExecute (/home/matt/.vscode/extensions/ms-toolsai.jupyter-2021.8.1054968649/out/client/extension.js:52:855249)",
      "at d.requestExecute (/home/matt/.vscode/extensions/ms-toolsai.jupyter-2021.8.1054968649/out/client/extension.js:37:313885)",
      "at w.requestExecute (/home/matt/.vscode/extensions/ms-toolsai.jupyter-2021.8.1054968649/out/client/extension.js:24:134487)",
      "at w.executeCodeCell (/home/matt/.vscode/extensions/ms-toolsai.jupyter-2021.8.1054968649/out/client/extension.js:90:319834)",
      "at w.execute (/home/matt/.vscode/extensions/ms-toolsai.jupyter-2021.8.1054968649/out/client/extension.js:90:319389)",
      "at w.start (/home/matt/.vscode/extensions/ms-toolsai.jupyter-2021.8.1054968649/out/client/extension.js:90:315205)",
      "at runMicrotasks (<anonymous>)",
      "at processTicksAndRejections (internal/process/task_queues.js:93:5)",
      "at async t.CellExecutionQueue.executeQueuedCells (/home/matt/.vscode/extensions/ms-toolsai.jupyter-2021.8.1054968649/out/client/extension.js:90:329732)",
      "at async t.CellExecutionQueue.start (/home/matt/.vscode/extensions/ms-toolsai.jupyter-2021.8.1054968649/out/client/extension.js:90:329272)"
     ]
    }
   ],
   "source": [
    "test = tracks_artists.iloc[31510]\n",
    "track_genre_predictions(test, rf_clf_50)\n",
    "track_genre_predictions(test, rf_clf_200)"
   ]
  },
  {
   "cell_type": "code",
   "execution_count": 60,
   "metadata": {},
   "outputs": [
    {
     "data": {
      "text/plain": [
       "(0.0, 10.0)"
      ]
     },
     "execution_count": 60,
     "metadata": {},
     "output_type": "execute_result"
    },
    {
     "data": {
      "image/png": "[encoded data removed]",
      "text/plain": [
       "<Figure size 432x288 with 1 Axes>"
      ]
     },
     "metadata": {},
     "output_type": "display_data"
    }
   ],
   "source": [
    "# Genre tags for each artist\n",
    "genre_counts_per_artist = genre_df['genre_count'].value_counts()\n",
    "\n",
    "fig, ax = plt.subplots()\n",
    "ax.bar(genre_counts_per_artist.index, genre_counts_per_artist.values)\n",
    "ax.set_xlim(0, 10)"
   ]
  },
  {
   "cell_type": "code",
   "execution_count": 63,
   "metadata": {},
   "outputs": [
    {
     "data": {
      "text/plain": [
       "count    5365.000000\n",
       "mean       85.898043\n",
       "std        71.625160\n",
       "min         1.000000\n",
       "25%        38.000000\n",
       "50%        61.000000\n",
       "75%       113.000000\n",
       "max       572.000000\n",
       "Name: genres, dtype: float64"
      ]
     },
     "execution_count": 63,
     "metadata": {},
     "output_type": "execute_result"
    },
    {
     "data": {
      "image/png": "[encoded data removed]",
      "text/plain": [
       "<Figure size 432x288 with 1 Axes>"
      ]
     },
     "metadata": {},
     "output_type": "display_data"
    }
   ],
   "source": [
    "# Split genre tags for each artist\n",
    "\n",
    "genre_counts = genre_split['genres'].value_counts()\n",
    "\n",
    "fig, ax = plt.subplots()\n",
    "ax.hist(genre_counts)\n",
    "# ax.set_xlim(0, 10)\n",
    "genre_counts.describe()"
   ]
  }
 ],
 "metadata": {
  "interpreter": {
   "hash": "788854e2bbc3d20cc56c650837a4ed1f51f3b262433e3e3955cbde64816cf559"
  },
  "kernelspec": {
   "display_name": "Python 3",
   "language": "python",
   "name": "python3"
  },
  "language_info": {
   "codemirror_mode": {
    "name": "ipython",
    "version": 3
   },
   "file_extension": ".py",
   "mimetype": "text/x-python",
   "name": "python",
   "nbconvert_exporter": "python",
   "pygments_lexer": "ipython3",
   "version": "3.8.10"
  }
 },
 "nbformat": 4,
 "nbformat_minor": 2
}
