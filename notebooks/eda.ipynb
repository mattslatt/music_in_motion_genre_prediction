{
 "cells": [
  {
   "cell_type": "code",
   "execution_count": 1,
   "source": [
    "import pandas as pd \n",
    "import numpy as np \n",
    "import matplotlib.pyplot as plt\n",
    "plt.style.use('ggplot')\n",
    "\n",
    "import sys\n",
    "sys.path.append('../')\n",
    "from src.processing import *\n",
    "from src.visualization import *\n",
    "\n",
    "from sklearn.cluster import AgglomerativeClustering\n",
    "from sklearn.ensemble import RandomForestClassifier\n",
    "\n",
    "from sklearn.model_selection import train_test_split\n",
    "from sklearn.metrics import classification_report\n",
    "\n",
    "import pickle"
   ],
   "outputs": [],
   "metadata": {}
  },
  {
   "cell_type": "code",
   "execution_count": 2,
   "source": [
    "# Import artist and track data\n",
    "\n",
    "tracks_raw = pd.read_csv('../../capstone1/spotify_data/tracks.csv')\n",
    "artists_raw = pd.read_csv('../../capstone1/spotify_data/artists.csv')"
   ],
   "outputs": [],
   "metadata": {}
  },
  {
   "cell_type": "code",
   "execution_count": 3,
   "source": [
    "### Explore artists\n",
    "\n",
    "print('artists shape: {}'.format(artists_raw.shape))\n",
    "print('columns: {}'.format(artists_raw.columns))"
   ],
   "outputs": [
    {
     "output_type": "stream",
     "name": "stdout",
     "text": [
      "artists shape: (1104349, 5)\n",
      "columns: Index(['id', 'followers', 'genres', 'name', 'popularity'], dtype='object')\n"
     ]
    }
   ],
   "metadata": {}
  },
  {
   "cell_type": "code",
   "execution_count": 3,
   "source": [
    "# Copy and process raw artist and track data\n",
    "artist_split = clean_artists(artists_raw)\n",
    "tracks_split = clean_tracks(tracks_raw)"
   ],
   "outputs": [
    {
     "output_type": "stream",
     "name": "stdout",
     "text": [
      "1104349 artists total\n",
      "298616 artists with labeled genres\n",
      "460843 genre-artist pairs after processing\n",
      "586672 tracks total\n",
      "574073 tracks with 3 or fewer artists\n",
      "689217 track-artist pairs after processing\n"
     ]
    }
   ],
   "metadata": {}
  },
  {
   "cell_type": "code",
   "execution_count": 14,
   "source": [
    "text = \", \".join(genre for genre in artist_split.genres)\n",
    "text[:1000]"
   ],
   "outputs": [
    {
     "output_type": "execute_result",
     "data": {
      "text/plain": [
       "'carnaval cadiz, carnaval cadiz, carnaval cadiz, carnaval cadiz, classical harp, harp, classical contralto, british choir, \"children\\'s story\", classic persian pop, persian traditional, desi pop, punjabi hip hop, punjabi pop, afro dancehall, afropop, azontobeats, nigerian hip hop, nigerian pop, filmi, indian folk, indian rock, kannada pop, indian fusion, desi pop, hindi indie, indian indie, indian rock, new delhi indie, sufi, russian electronic, swedish electropop, indian folk, khaliji, sheilat, desi pop, modern bollywood, afro dancehall, afropop, alte, nigerian pop, environmental, sleep, desi hip hop, tamil pop, opm, pinoy hip hop, pinoy r&b, pinoy trap, tagalog rap, kuduro, australian hip hop, australian trap, afropop, azontobeats, nigerian hip hop, nigerian pop, hindi indie, indian indie, indian singer-songwriter, pinoy hip hop, tagalog rap, uk drill, indie hidalguense, comedy, comic, haitian gospel, new comedy, vintage tango, folklore argentino, folklore argentino, villancicos, house'"
      ]
     },
     "metadata": {},
     "execution_count": 14
    }
   ],
   "metadata": {}
  },
  {
   "cell_type": "code",
   "execution_count": 64,
   "source": [
    "# Genre visualization\n",
    "\n",
    "# masked_wordcloud(artist_split, mask = 'roam_4', min_font = 0.1, colormap_choice='Pastel2')\n",
    "# masked_wordcloud(artist_split, mask = 'note', min_font = 8, colormap_choice='Pastel2')\n",
    "\n",
    "# fig, ax = plt.subplots(figsize=(6,3))\n",
    "# ax.hist(artist_split.genres.value_counts().values, color = 'seagreen', bins=80, alpha = 0.8, histtype='bar', ec='black')\n",
    "# ax.set_xlabel('Genres')\n",
    "# ax.set_ylabel('Artist associations per genre')\n",
    "# plt.title('Genre Association')\n",
    "# plt.tight_layout()\n",
    "# plt.savefig('../img/genre_count_hist.png', dpi=300)"
   ],
   "outputs": [
    {
     "output_type": "display_data",
     "data": {
      "text/plain": [
       "<Figure size 432x216 with 1 Axes>"
      ],
      "image/png": "[encoded data removed]"
     },
     "metadata": {}
    }
   ],
   "metadata": {}
  },
  {
   "cell_type": "code",
   "execution_count": 65,
   "source": [
    "# Remove exceptionally rare genres\n",
    "\n",
    "print('median number of arists per genre: {}'.format(artist_split['genres'].value_counts().quantile(0.5)))\n",
    "top_50_genres, artist_50_genres = top_x_genres(artist_split, num_genres=50)\n",
    "top_100_genres, artist_100_genres = top_x_genres(artist_split, num_genres=100)\n",
    "top_200_genres, artist_200_genres = top_x_genres(artist_split, num_genres=200)"
   ],
   "outputs": [
    {
     "output_type": "stream",
     "name": "stdout",
     "text": [
      "median number of arists per genre: 61.0\n"
     ]
    }
   ],
   "metadata": {}
  },
  {
   "cell_type": "code",
   "execution_count": 66,
   "source": [
    "tracks_artists = artist_split.merge(tracks_split, on='id_artists')\n",
    "tracks_artists_50 = artist_50_genres.merge(tracks_split, on='id_artists')\n",
    "tracks_artists_100 = artist_100_genres.merge(tracks_split, on='id_artists')\n",
    "tracks_artists_200 = artist_200_genres.merge(tracks_split, on='id_artists')\n",
    "\n",
    "print('{} track-artist-genre combinations with all genres'.format(tracks_artists.shape[0]))\n",
    "print('{} track-artist-genre combinations with 50 genres'.format(tracks_artists_50.shape[0]))\n",
    "print('{} track-artist-genre combinations with 100 genres'.format(tracks_artists_100.shape[0]))\n",
    "print('{} track-artist-genre combinations with 200 genres'.format(tracks_artists_200.shape[0]))"
   ],
   "outputs": [
    {
     "output_type": "stream",
     "name": "stdout",
     "text": [
      "2077522 track-artist-genre combinations with all genres\n",
      "302347 track-artist-genre combinations with 50 genres\n",
      "554759 track-artist-genre combinations with 100 genres\n",
      "777249 track-artist-genre combinations with 200 genres\n"
     ]
    }
   ],
   "metadata": {}
  },
  {
   "cell_type": "code",
   "execution_count": 72,
   "source": [
    "# trim dataframe for dimensionality reduction\n",
    "def track_features_and_labels(data):\n",
    "    tracks_artists_clean = data[['genres','danceability',\n",
    "       'energy', 'key', 'loudness', 'mode', 'speechiness', 'acousticness',\n",
    "       'instrumentalness', 'liveness', 'valence', 'tempo', 'time_signature']]\n",
    "    X, y = tracks_artists_clean.iloc[:, 1:], tracks_artists_clean.iloc[:, :1]\n",
    "    X_train, X_test, y_train, y_test = train_test_split(X, y)\n",
    "    return X_train, X_test, y_train, y_test\n",
    "\n",
    "X_train_50, X_test_50, y_train_50, y_test_50 = track_features_and_labels(tracks_artists_50)\n",
    "X_train_200, X_test_200, y_train_200, y_test_200 = track_features_and_labels(tracks_artists_200)\n"
   ],
   "outputs": [
    {
     "output_type": "execute_result",
     "data": {
      "text/plain": [
       "(75587, 12)"
      ]
     },
     "metadata": {},
     "execution_count": 72
    }
   ],
   "metadata": {}
  },
  {
   "cell_type": "code",
   "execution_count": 73,
   "source": [
    "rf_clf_50 = RandomForestClassifier()\n",
    "rf_clf_50.fit(X_train_50, y_train_50)\n",
    "\n",
    "rf_clf_200 = RandomForestClassifier()\n",
    "rf_clf_200.fit(X_train_200, y_train_200)\n",
    "\n",
    "# pickle.dump(rf_clf, open('../models/rf_clf.plk', 'wb'))"
   ],
   "outputs": [
    {
     "output_type": "stream",
     "name": "stderr",
     "text": [
      "<ipython-input-73-34d509c32d79>:2: DataConversionWarning: A column-vector y was passed when a 1d array was expected. Please change the shape of y to (n_samples,), for example using ravel().\n",
      "  rf_clf.fit(X_train, y_train)\n"
     ]
    },
    {
     "output_type": "execute_result",
     "data": {
      "text/plain": [
       "RandomForestClassifier()"
      ]
     },
     "metadata": {},
     "execution_count": 73
    }
   ],
   "metadata": {}
  },
  {
   "cell_type": "code",
   "execution_count": null,
   "source": [
    "rf_pred_50 = rf_clf_50.predict(X_test_50)\n",
    "print(classification_report(y_test_50, rf_pred_50))\n",
    "\n",
    "rf_pred_200 = rf_clf_200.predict(X_test_200)\n",
    "print(classification_report(y_test_200, rf_pred_200))"
   ],
   "outputs": [
    {
     "output_type": "error",
     "ename": "Error",
     "evalue": "Kernel is dead",
     "traceback": [
      "Error: Kernel is dead",
      "at g._sendKernelShellControl (/home/matt/.vscode/extensions/ms-toolsai.jupyter-2021.8.1054968649/out/client/extension.js:52:852938)",
      "at g.sendShellMessage (/home/matt/.vscode/extensions/ms-toolsai.jupyter-2021.8.1054968649/out/client/extension.js:52:852707)",
      "at g.requestExecute (/home/matt/.vscode/extensions/ms-toolsai.jupyter-2021.8.1054968649/out/client/extension.js:52:855249)",
      "at d.requestExecute (/home/matt/.vscode/extensions/ms-toolsai.jupyter-2021.8.1054968649/out/client/extension.js:37:313885)",
      "at w.requestExecute (/home/matt/.vscode/extensions/ms-toolsai.jupyter-2021.8.1054968649/out/client/extension.js:24:134487)",
      "at w.executeCodeCell (/home/matt/.vscode/extensions/ms-toolsai.jupyter-2021.8.1054968649/out/client/extension.js:90:319834)",
      "at w.execute (/home/matt/.vscode/extensions/ms-toolsai.jupyter-2021.8.1054968649/out/client/extension.js:90:319389)",
      "at w.start (/home/matt/.vscode/extensions/ms-toolsai.jupyter-2021.8.1054968649/out/client/extension.js:90:315205)",
      "at runMicrotasks (<anonymous>)",
      "at processTicksAndRejections (internal/process/task_queues.js:93:5)",
      "at async t.CellExecutionQueue.executeQueuedCells (/home/matt/.vscode/extensions/ms-toolsai.jupyter-2021.8.1054968649/out/client/extension.js:90:329732)",
      "at async t.CellExecutionQueue.start (/home/matt/.vscode/extensions/ms-toolsai.jupyter-2021.8.1054968649/out/client/extension.js:90:329272)"
     ]
    }
   ],
   "metadata": {}
  },
  {
   "cell_type": "code",
   "execution_count": null,
   "source": [
    "test = tracks_artists.iloc[31510]\n",
    "track_genre_predictions(test, rf_clf_50)\n",
    "track_genre_predictions(test, rf_clf_200)"
   ],
   "outputs": [
    {
     "output_type": "error",
     "ename": "Error",
     "evalue": "Kernel is dead",
     "traceback": [
      "Error: Kernel is dead",
      "at g._sendKernelShellControl (/home/matt/.vscode/extensions/ms-toolsai.jupyter-2021.8.1054968649/out/client/extension.js:52:852938)",
      "at g.sendShellMessage (/home/matt/.vscode/extensions/ms-toolsai.jupyter-2021.8.1054968649/out/client/extension.js:52:852707)",
      "at g.requestExecute (/home/matt/.vscode/extensions/ms-toolsai.jupyter-2021.8.1054968649/out/client/extension.js:52:855249)",
      "at d.requestExecute (/home/matt/.vscode/extensions/ms-toolsai.jupyter-2021.8.1054968649/out/client/extension.js:37:313885)",
      "at w.requestExecute (/home/matt/.vscode/extensions/ms-toolsai.jupyter-2021.8.1054968649/out/client/extension.js:24:134487)",
      "at w.executeCodeCell (/home/matt/.vscode/extensions/ms-toolsai.jupyter-2021.8.1054968649/out/client/extension.js:90:319834)",
      "at w.execute (/home/matt/.vscode/extensions/ms-toolsai.jupyter-2021.8.1054968649/out/client/extension.js:90:319389)",
      "at w.start (/home/matt/.vscode/extensions/ms-toolsai.jupyter-2021.8.1054968649/out/client/extension.js:90:315205)",
      "at runMicrotasks (<anonymous>)",
      "at processTicksAndRejections (internal/process/task_queues.js:93:5)",
      "at async t.CellExecutionQueue.executeQueuedCells (/home/matt/.vscode/extensions/ms-toolsai.jupyter-2021.8.1054968649/out/client/extension.js:90:329732)",
      "at async t.CellExecutionQueue.start (/home/matt/.vscode/extensions/ms-toolsai.jupyter-2021.8.1054968649/out/client/extension.js:90:329272)"
     ]
    }
   ],
   "metadata": {}
  },
  {
   "cell_type": "code",
   "execution_count": 60,
   "source": [
    "# Genre tags for each artist\n",
    "genre_counts_per_artist = genre_df['genre_count'].value_counts()\n",
    "\n",
    "fig, ax = plt.subplots()\n",
    "ax.bar(genre_counts_per_artist.index, genre_counts_per_artist.values)\n",
    "ax.set_xlim(0, 10)"
   ],
   "outputs": [
    {
     "output_type": "execute_result",
     "data": {
      "text/plain": [
       "(0.0, 10.0)"
      ]
     },
     "metadata": {},
     "execution_count": 60
    },
    {
     "output_type": "display_data",
     "data": {
      "text/plain": [
       "<Figure size 432x288 with 1 Axes>"
      ],
      "image/png": "[encoded data removed]"
     },
     "metadata": {}
    }
   ],
   "metadata": {}
  },
  {
   "cell_type": "code",
   "execution_count": 63,
   "source": [
    "# Split genre tags for each artist\n",
    "\n",
    "genre_counts = genre_split['genres'].value_counts()\n",
    "\n",
    "fig, ax = plt.subplots()\n",
    "ax.hist(genre_counts)\n",
    "# ax.set_xlim(0, 10)\n",
    "genre_counts.describe()"
   ],
   "outputs": [
    {
     "output_type": "execute_result",
     "data": {
      "text/plain": [
       "count    5365.000000\n",
       "mean       85.898043\n",
       "std        71.625160\n",
       "min         1.000000\n",
       "25%        38.000000\n",
       "50%        61.000000\n",
       "75%       113.000000\n",
       "max       572.000000\n",
       "Name: genres, dtype: float64"
      ]
     },
     "metadata": {},
     "execution_count": 63
    },
    {
     "output_type": "display_data",
     "data": {
      "text/plain": [
       "<Figure size 432x288 with 1 Axes>"
      ],
      "image/png": "[encoded data removed]"
     },
     "metadata": {}
    }
   ],
   "metadata": {}
  }
 ],
 "metadata": {
  "orig_nbformat": 4,
  "language_info": {
   "name": "python",
   "version": "3.8.10",
   "mimetype": "text/x-python",
   "codemirror_mode": {
    "name": "ipython",
    "version": 3
   },
   "pygments_lexer": "ipython3",
   "nbconvert_exporter": "python",
   "file_extension": ".py"
  },
  "kernelspec": {
   "name": "python3",
   "display_name": "Python 3.8.10 64-bit ('base': conda)"
  },
  "interpreter": {
   "hash": "788854e2bbc3d20cc56c650837a4ed1f51f3b262433e3e3955cbde64816cf559"
  }
 },
 "nbformat": 4,
 "nbformat_minor": 2
}